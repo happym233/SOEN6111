{
 "cells": [
  {
   "cell_type": "markdown",
   "id": "ba50e56a-1c05-4c96-81e6-9e4c30d13be1",
   "metadata": {},
   "source": [
    "# Project Data Model"
   ]
  },
  {
   "cell_type": "markdown",
   "id": "bc1776de-9116-48a7-a3fc-eb3e3fed999d",
   "metadata": {
    "tags": []
   },
   "source": [
    "## 1. Data Extraction"
   ]
  },
  {
   "cell_type": "markdown",
   "id": "9ba8bc74-24d8-4015-a17e-50a192653cfb",
   "metadata": {},
   "source": [
    "After studying the database provided by Sofvie, 3 types of data are required, namely incidents, incident's type and supervisor data. \n",
    "\n",
    "The following python file generates the required SQL and outputs the extracted data to CSV files."
   ]
  },
  {
   "cell_type": "code",
   "execution_count": null,
   "id": "63d3e552-f236-4860-a81f-930875f7bcf1",
   "metadata": {
    "tags": []
   },
   "outputs": [],
   "source": [
    "%run ../codes/database_query/print_to_files.py"
   ]
  },
  {
   "cell_type": "markdown",
   "id": "a14158c1-5320-40e0-ab66-43740c568f28",
   "metadata": {
    "tags": []
   },
   "source": [
    "## 2. Feature Engineering"
   ]
  },
  {
   "cell_type": "markdown",
   "id": "fa3ea7d9-85b9-4c34-b6e7-712521ceb863",
   "metadata": {},
   "source": [
    "Next, after obtaining the raw data from the database, the data is combined by joining the incident data with the incident type based on the `incidentId`. The supervisor data is then joined to the data by the `per_id` column.\n",
    "\n",
    "The resulting data is output to a CSV file `cleaned_incident_data.csv`"
   ]
  },
  {
   "cell_type": "code",
   "execution_count": null,
   "id": "1d25b397-fd5c-41ff-a943-4a513e8aabb2",
   "metadata": {},
   "outputs": [],
   "source": [
    "%run ../codes/feature_engineering/combine_cleaned_data.py"
   ]
  },
  {
   "cell_type": "markdown",
   "id": "15de0a13-d988-4c92-97db-357c3c016c69",
   "metadata": {},
   "source": [
    "The resulting data is further enhanced for the training set with the aim of enhancing model accuracy. To do so, the following script generates an `incidents_data.csv` file which is the final dataset used in the models."
   ]
  },
  {
   "cell_type": "code",
   "execution_count": null,
   "id": "0747429e-2a97-48b7-adef-053897ab4a47",
   "metadata": {},
   "outputs": [],
   "source": [
    "%run ../codes/feature_engineering/replacing_values.py"
   ]
  },
  {
   "cell_type": "markdown",
   "id": "8e140377-6a64-426f-be6c-02df0f8b0ada",
   "metadata": {},
   "source": [
    "In the script above, several new variables are created and existing data is also transformed. \n",
    "\n",
    "The following features were transformed and/or normalized in the script:\n",
    "- `IncidentCreationDateTimestamp`: normalization of timeseries data to a standard format\n",
    "- `per_dob_timestamp`: normalization of timeseries data to a standard format\n",
    "- `emp_start_date_timestamp`: normalization of timeseries data to a standard format\n",
    "- `per_middle_name`: replace `N/A` values with empty string `\"\"`\n",
    "- `per_name`: combines first name (`per_first_name`), middle name (`per_middle_name`) and last name (`per_last_name`) of employee.\n",
    "\n",
    "The following new features were introduced in the script:\n",
    "- `incidentDobDayBetween`: number of days between incident date and employee's date of birth\n",
    "- `incidentEmpStartDayBetween` number of days beteeen incident date and employee's start date\n",
    "- `DobEmpStartDayBetween`: number of days between employee's start date and date of birth\n",
    "- `emp_pos_cnt`: number of positions the employee holds\n",
    "- `emp_site_cnt`: number of sites the employee is assigned to"
   ]
  },
  {
   "cell_type": "markdown",
   "id": "dfd4c6c5-30ad-4c11-bae9-00d13234732a",
   "metadata": {},
   "source": [
    "## 3. Model Construction"
   ]
  },
  {
   "cell_type": "code",
   "execution_count": null,
   "id": "f643f452-82fa-4001-9512-e8de46f21050",
   "metadata": {},
   "outputs": [],
   "source": [
    "%run ../codes/model_construction/model_rf.py"
   ]
  }
 ],
 "metadata": {
  "kernelspec": {
   "display_name": "Python 3 (ipykernel)",
   "language": "python",
   "name": "python3"
  },
  "language_info": {
   "codemirror_mode": {
    "name": "ipython",
    "version": 3
   },
   "file_extension": ".py",
   "mimetype": "text/x-python",
   "name": "python",
   "nbconvert_exporter": "python",
   "pygments_lexer": "ipython3",
   "version": "3.10.9"
  }
 },
 "nbformat": 4,
 "nbformat_minor": 5
}
